{
 "cells": [
  {
   "cell_type": "code",
   "execution_count": 1,
   "metadata": {
    "collapsed": true
   },
   "outputs": [],
   "source": [
    "diffs = []\n",
    "errors_sq = []\n",
    "percent_Error = []"
   ]
  },
  {
   "cell_type": "code",
   "execution_count": 2,
   "metadata": {
    "collapsed": true
   },
   "outputs": [],
   "source": [
    "import numpy as np\n",
    "import pandas as pd\n",
    "import matplotlib.pyplot as plt\n",
    "import os"
   ]
  },
  {
   "cell_type": "code",
   "execution_count": 111,
   "metadata": {},
   "outputs": [],
   "source": [
    "df = pd.read_csv('tickers-actual/ACN.csv')\n",
    "\n",
    "# df = df['close']\n",
    "# df\n",
    "\n",
    "# df_list = {}\n",
    "# curr_dir = os.getcwd()\n",
    "# tickers_dir = os.path.join(curr_dir, \"tickers-actual/\")\n",
    "# for filename in os.listdir(os.path.join(tickers_dir)):\n",
    "#     df_list[filename] = (pd.read_csv(os.path.join(tickers_dir, filename)))"
   ]
  },
  {
   "cell_type": "code",
   "execution_count": 112,
   "metadata": {},
   "outputs": [
    {
     "data": {
      "text/plain": [
       "[0.34955056101389204,\n",
       " 0.0019802327691321731,\n",
       " 0.45185529185495454,\n",
       " 0.019545536443562384,\n",
       " 0.65352933664516399,\n",
       " 3.7943623049855617,\n",
       " 2.3399282582400076,\n",
       " 0.35346897637278474,\n",
       " 0.90814162621914818,\n",
       " 0.24821303780853299,\n",
       " 2.6193882529715609,\n",
       " 1.3826110620709215,\n",
       " 1.6134869209352303,\n",
       " 2.43171198768826,\n",
       " 0.31117928749329593,\n",
       " 2.8460861244615074,\n",
       " 0.0061274358860528011,\n",
       " 1.5724649958702486,\n",
       " 1.5724649958702486,\n",
       " 2.3510672801627948,\n",
       " 0.11101357357295072,\n",
       " 0.55081494925522989,\n",
       " 1.5176975172599043,\n",
       " 1.221550735944632,\n",
       " 0.58933185455782322,\n",
       " 0.29338189452394658,\n",
       " 1.3125731059827856,\n",
       " 0.00059220474365417886,\n",
       " 0.70695882878713689,\n",
       " 0.68585513655735042,\n",
       " 0.19516741224237322,\n",
       " 0.27505292981323759,\n",
       " 0.030558813349557568,\n",
       " 0.83766027815364907,\n",
       " 0.31618948416402759,\n",
       " 0.67972894789038207,\n",
       " 2.7538471034113172,\n",
       " 0.036646639154658711,\n",
       " 0.19074668029418262,\n",
       " 2.1613152885278737,\n",
       " 0.5763958824443165,\n",
       " 3.0513846988850872,\n",
       " 0.71039111580587289,\n",
       " 2.5235498349628074,\n",
       " 0.31597877418958831,\n",
       " 0.48572049644959492,\n",
       " 0.39018051217690441,\n",
       " 0.84899719381084537,\n",
       " 0.37869817258398086,\n",
       " 0.073819295188084055,\n",
       " 0.49391713281949734,\n",
       " 5.9861481942558612,\n",
       " 0.27124502374359594,\n",
       " 0.83547588990983002,\n",
       " 0.57832184363519445]"
      ]
     },
     "execution_count": 112,
     "metadata": {},
     "output_type": "execute_result"
    }
   ],
   "source": [
    "# calculate simple moving average\n",
    "def sma(data, window):\n",
    "    if len(data) < window:\n",
    "            return None\n",
    "    return sum(data[-window:]) / float(window)\n",
    "\n",
    "\n",
    "# calculate exponential moving average, with time period 10\n",
    "def ema_10(data, window = 10):\n",
    "    if len(data) < 2 * window:\n",
    "#         raise ValueError(\"data is too short\")\n",
    "        return 0\n",
    "    c = 2.0 / (window + 1)\n",
    "    current_ema = sma(data[-window*2:-window], window)\n",
    "    for value in data[-window:]:\n",
    "        current_ema = (c * value) + ((1 - c) * current_ema)\n",
    "    return current_ema\n",
    "\n",
    "# calculate exponential moving average, with time period 20\n",
    "def ema_20(data, window = 20):\n",
    "    if len(data) < 2 * window:\n",
    "#         raise ValueError(\"data is too short\")\n",
    "        return 0\n",
    "    c = 2.0 / (window + 1)\n",
    "    current_ema = sma(data[-window*2:-window], window)\n",
    "    for value in data[-window:]:\n",
    "        current_ema = (c * value) + ((1 - c) * current_ema)\n",
    "    return current_ema\n",
    "\n",
    "# set to which day you would like to receive data for\n",
    "today = 99\n",
    "\n",
    "train_y = df['close'][:today]\n",
    "valid_y = df['close'][today]\n",
    "\n",
    "e10 = ema_10(train_y)\n",
    "e20 = ema_20(train_y)\n",
    "\n",
    "errors_sq.append(pow(e10 - valid_y,2))\n",
    "\n",
    "pe = abs(valid_y - e10)/valid_y\n",
    "percent_Error.append(pe)\n",
    "\n",
    "ab = abs(e10-valid_y)\n",
    "diffs.append(ab)\n",
    "\n",
    "diffs\n",
    "\n",
    "# print('e10_closing: ', e10, '-- e20_closing: ', e20)\n",
    "# print('[actual closing: ', valid_y,\"]\")\n",
    "# print('e10 error: ', e10-valid_y, '-- e20 error: ', e20-valid_y)\n",
    "# percent_Error\n",
    "# errors_sq"
   ]
  },
  {
   "cell_type": "code",
   "execution_count": 118,
   "metadata": {},
   "outputs": [
    {
     "data": {
      "text/plain": [
       "'ANTM'"
      ]
     },
     "execution_count": 118,
     "metadata": {},
     "output_type": "execute_result"
    }
   ],
   "source": [
    "kek = diffs[::-1]\n",
    "\n",
    "names = ['ACN', 'AFL', 'AJG', 'ANTM', 'ANTX', 'APTS', 'APTV', 'ATR', 'AVT', 'CAJ', 'CL', 'CMI', 'DAR', 'DNB', 'DPS', 'DVMT', 'ECL', 'ECR', 'EMN', 'FLR', 'G', 'GDI', 'GLOP', 'GNRT', 'HASI', 'HCA', 'HGV', 'HLT', 'IP', 'JCI', 'JILL', 'KMT', 'LDOS', 'M', 'MMD', 'MMM', 'NGG', 'NOK', 'OSK', 'PFGC', 'PX', 'PXD', 'RLGY', 'V', 'VNTR', 'VNTV', 'VVV', 'VXX', 'WD', 'WHR', 'WIT', 'WY', \n",
    "         'WYY', 'XRX']\n",
    "\n",
    "dictionary = dict(zip(names, kek))\n",
    "# print(dictionary)\n",
    "# max(dictionary, key=dictionary.get)\n",
    "\n",
    "sorted_x = sorted(dictionary.items(), key=operator.itemgetter(1))\n",
    "sortex_x\n",
    "\n",
    "# total = 0 \n",
    "# for x in errors_sq:\n",
    "#     total += x\n",
    "# # total error squared\n",
    "# print(total)\n",
    "\n",
    "# totalP = 0\n",
    "# for x in percent_Error:\n",
    "#     totalP += x\n",
    "# print(totalP/len(percent_Error))\n",
    "\n",
    "# # if e10 > e20:\n",
    "# #     print('Good to Buy')\n",
    "# # elif e10 < e20:\n",
    "# #     print('Good to Sell')\n",
    "# # elif e10 == e20:\n",
    "# #     print('Hold it')"
   ]
  },
  {
   "cell_type": "code",
   "execution_count": 36,
   "metadata": {},
   "outputs": [],
   "source": [
    "# %matplotlib inline\n",
    "\n",
    "# # look at rough data trend (set 10 and 20 to what you set ema windows)\n",
    "# df['close'].plot()\n",
    "# pd.rolling_mean(df['close'], 10).plot()\n",
    "# pd.rolling_mean(df['close'], 20).plot()"
   ]
  }
 ],
 "metadata": {
  "kernelspec": {
   "display_name": "Python 3",
   "language": "python",
   "name": "python3"
  },
  "language_info": {
   "codemirror_mode": {
    "name": "ipython",
    "version": 3
   },
   "file_extension": ".py",
   "mimetype": "text/x-python",
   "name": "python",
   "nbconvert_exporter": "python",
   "pygments_lexer": "ipython3",
   "version": "3.6.3"
  }
 },
 "nbformat": 4,
 "nbformat_minor": 2
}
