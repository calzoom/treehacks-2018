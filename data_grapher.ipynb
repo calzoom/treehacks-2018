{
 "cells": [
  {
   "cell_type": "code",
   "execution_count": 100,
   "metadata": {
    "collapsed": true
   },
   "outputs": [],
   "source": [
    "import pandas as pd\n",
    "import matplotlib.pyplot as plt\n",
    "import seaborn as sns\n",
    "import os\n",
    "import matplotlib.font_manager as font_manager\n",
    "import matplotlib.ticker"
   ]
  },
  {
   "cell_type": "code",
   "execution_count": 42,
   "metadata": {},
   "outputs": [],
   "source": [
    "df_list = {}\n",
    "curr_dir = os.getcwd()\n",
    "tickers_dir = os.path.join(curr_dir, \"tickers-actual/\")\n",
    "for filename in os.listdir(os.path.join(tickers_dir)):\n",
    "    df_list[filename] = (pd.read_csv(os.path.join(tickers_dir, filename)))"
   ]
  },
  {
   "cell_type": "code",
   "execution_count": 129,
   "metadata": {},
   "outputs": [
    {
     "name": "stderr",
     "output_type": "stream",
     "text": [
      "/Users/mk1123/anaconda3/lib/python3.6/site-packages/matplotlib/pyplot.py:524: RuntimeWarning: More than 20 figures have been opened. Figures created through the pyplot interface (`matplotlib.pyplot.figure`) are retained until explicitly closed and may consume too much memory. (To control this warning, see the rcParam `figure.max_open_warning`).\n",
      "  max_open_warning, RuntimeWarning)\n"
     ]
    },
    {
     "name": "stdout",
     "output_type": "stream",
     "text": [
      "GDI.csv\n",
      "V.csv\n",
      "HCA.csv\n",
      "AJG.csv\n",
      "OSK.csv\n",
      "DAR.csv\n",
      "WYY.csv\n",
      "G.csv\n",
      "FLR.csv\n",
      "GNRT.csv\n",
      "WD.csv\n",
      "ECL.csv\n",
      "PBIPB.csv\n",
      "PFGC.csv\n",
      "VXX.csv\n",
      "APTV.csv\n",
      "JILL.csv\n",
      "RLGY.csv\n",
      "MMM.csv\n",
      "IP.csv\n",
      "APTS.csv\n",
      "ACN.csv\n",
      "WHR.csv\n",
      "WIT.csv\n",
      "VVV.csv\n",
      "ATR.csv\n",
      "EMN.csv\n",
      "ECR.csv\n",
      "DVMT.csv\n",
      "DPS.csv\n",
      "CAJ.csv\n",
      "PX.csv\n",
      "CMI.csv\n",
      "GLOP.csv\n",
      "HGV.csv\n",
      "NGG.csv\n",
      "GTES.csv\n",
      "AVT.csv\n",
      "MMD.csv\n",
      "VNTV.csv\n",
      "LDOS.csv\n",
      "KMT.csv\n",
      "VNTR.csv\n",
      "PXD.csv\n",
      "CL.csv\n",
      "JCI.csv\n",
      "ANTM.csv\n",
      "ANTX.csv\n",
      "DNB.csv\n",
      "HASI.csv\n",
      "AFL.csv\n",
      "XRX.csv\n",
      "ALL-PB.csv\n",
      "WY.csv\n",
      "HLT.csv\n",
      "NOK.csv\n",
      "M.csv\n"
     ]
    }
   ],
   "source": [
    "count = 0\n",
    "for i in df_list:\n",
    "    dummyDF = df_list[i]\n",
    "    fig, ax = plt.subplots()\n",
    "    ax.facecolor = '#535055'\n",
    "    ax.grid(color = \"black\", linewidth = 0.25)\n",
    "    ax.set_title(i[0:len(i)-4], fontweight = \"bold\", fontsize = 14)\n",
    "    ax.set_ylabel(\"Stock price $\", fontsize = 12, style = \"italic\")\n",
    "    ax.set_xlabel(\"Date\", fontsize = 12, style = \"italic\")\n",
    "    try:\n",
    "        if count % 3 == 0:\n",
    "            plt.plot_date(x=dummyDF[\"timestamp\"], y=dummyDF[\"close\"], fmt = ',', linestyle = \"-\", linewidth = 3.0, color = '#3F9852')\n",
    "        elif count % 3 == 1:\n",
    "            plt.plot_date(x=dummyDF[\"timestamp\"], y=dummyDF[\"close\"], fmt = ',', linestyle = \"-\", linewidth = 3.0, color = '#3869B1')\n",
    "        else:\n",
    "            plt.plot_date(x=dummyDF[\"timestamp\"], y=dummyDF[\"close\"], fmt = ',', linestyle = \"-\", linewidth = 3.0, color = '#CC2428')\n",
    "        plt.savefig(i[0:len(i)-4] + '.png', bbox_inches='tight')\n",
    "        count += 1\n",
    "        print(i)\n",
    "    except:\n",
    "        pass"
   ]
  },
  {
   "cell_type": "code",
   "execution_count": null,
   "metadata": {
    "collapsed": true
   },
   "outputs": [],
   "source": []
  }
 ],
 "metadata": {
  "kernelspec": {
   "display_name": "Python 3",
   "language": "python",
   "name": "python3"
  },
  "language_info": {
   "codemirror_mode": {
    "name": "ipython",
    "version": 3
   },
   "file_extension": ".py",
   "mimetype": "text/x-python",
   "name": "python",
   "nbconvert_exporter": "python",
   "pygments_lexer": "ipython3",
   "version": "3.6.2"
  }
 },
 "nbformat": 4,
 "nbformat_minor": 2
}
