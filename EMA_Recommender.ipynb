{
 "cells": [
  {
   "cell_type": "code",
   "execution_count": 1,
   "metadata": {
    "collapsed": true
   },
   "outputs": [],
   "source": [
    "import numpy as np\n",
    "import pandas as pd\n",
    "import matplotlib.pyplot as plt"
   ]
  },
  {
   "cell_type": "code",
   "execution_count": 2,
   "metadata": {},
   "outputs": [],
   "source": [
    "df = pd.read_csv('daily_ACN.csv')\n",
    "# df = df['close']\n",
    "# df"
   ]
  },
  {
   "cell_type": "code",
   "execution_count": 3,
   "metadata": {},
   "outputs": [
    {
     "name": "stdout",
     "output_type": "stream",
     "text": [
      "e10_closing:  136.261678156 -- e20_closing:  137.64259017\n",
      "[actual closing:  136.84 ]\n",
      "e10 error:  -0.578321843635 -- e20 error:  0.802590169744\n"
     ]
    }
   ],
   "source": [
    "# calculate simple moving average\n",
    "def sma(data, window):\n",
    "    if len(data) < window:\n",
    "            return None\n",
    "    return sum(data[-window:]) / float(window)\n",
    "\n",
    "\n",
    "# calculate exponential moving average, with time period 10\n",
    "def ema_10(data, window = 10):\n",
    "    if len(data) < 2 * window:\n",
    "#         raise ValueError(\"data is too short\")\n",
    "        return 0\n",
    "    c = 2.0 / (window + 1)\n",
    "    current_ema = sma(data[-window*2:-window], window)\n",
    "    for value in data[-window:]:\n",
    "        current_ema = (c * value) + ((1 - c) * current_ema)\n",
    "    return current_ema\n",
    "\n",
    "# calculate exponential moving average, with time period 20\n",
    "def ema_20(data, window = 20):\n",
    "    if len(data) < 2 * window:\n",
    "#         raise ValueError(\"data is too short\")\n",
    "        return 0\n",
    "    c = 2.0 / (window + 1)\n",
    "    current_ema = sma(data[-window*2:-window], window)\n",
    "    for value in data[-window:]:\n",
    "        current_ema = (c * value) + ((1 - c) * current_ema)\n",
    "    return current_ema\n",
    "\n",
    "today = 99\n",
    "\n",
    "train_y = df['close'][:today]\n",
    "valid_y = df['close'][today]\n",
    "\n",
    "e10 = ema_10(train_y)\n",
    "e20 = ema_20(train_y)\n",
    "\n",
    "print('e10_closing: ', e10, '-- e20_closing: ', e20)\n",
    "print('[actual closing: ', valid_y,\"]\")\n",
    "\n",
    "print('e10 error: ', e10-valid_y, '-- e20 error: ', e20-valid_y)"
   ]
  },
  {
   "cell_type": "code",
   "execution_count": 4,
   "metadata": {},
   "outputs": [
    {
     "name": "stdout",
     "output_type": "stream",
     "text": [
      "Good to Sell\n"
     ]
    }
   ],
   "source": [
    "if e10 > e20:\n",
    "    print('Good to Buy')\n",
    "elif e10 < e20:\n",
    "    print('Good to Sell')\n",
    "elif e10 == e20:\n",
    "    print('Hold it')"
   ]
  },
  {
   "cell_type": "code",
   "execution_count": 5,
   "metadata": {},
   "outputs": [
    {
     "name": "stderr",
     "output_type": "stream",
     "text": [
      "/Users/japjot/anaconda3/lib/python3.6/site-packages/ipykernel_launcher.py:5: FutureWarning: pd.rolling_mean is deprecated for Series and will be removed in a future version, replace with \n",
      "\tSeries.rolling(window=10,center=False).mean()\n",
      "  \"\"\"\n",
      "/Users/japjot/anaconda3/lib/python3.6/site-packages/ipykernel_launcher.py:6: FutureWarning: pd.rolling_mean is deprecated for Series and will be removed in a future version, replace with \n",
      "\tSeries.rolling(window=20,center=False).mean()\n",
      "  \n"
     ]
    },
    {
     "data": {
      "text/plain": [
       "<matplotlib.axes._subplots.AxesSubplot at 0x10b0fc518>"
      ]
     },
     "execution_count": 5,
     "metadata": {},
     "output_type": "execute_result"
    },
    {
     "data": {
      "image/png": "[encoded data removed]",
      "text/plain": [
       "<matplotlib.figure.Figure at 0x10b09b240>"
      ]
     },
     "metadata": {},
     "output_type": "display_data"
    }
   ],
   "source": [
    "%matplotlib inline\n",
    "\n",
    "# look at rough data trend (set 10 and 20 to what you set ema windows)\n",
    "df['close'].plot()\n",
    "pd.rolling_mean(df['close'], 10).plot()\n",
    "pd.rolling_mean(df['close'], 20).plot()"
   ]
  },
  {
   "cell_type": "code",
   "execution_count": null,
   "metadata": {
    "collapsed": true
   },
   "outputs": [],
   "source": []
  },
  {
   "cell_type": "code",
   "execution_count": null,
   "metadata": {
    "collapsed": true
   },
   "outputs": [],
   "source": []
  }
 ],
 "metadata": {
  "kernelspec": {
   "display_name": "Python 3",
   "language": "python",
   "name": "python3"
  },
  "language_info": {
   "codemirror_mode": {
    "name": "ipython",
    "version": 3
   },
   "file_extension": ".py",
   "mimetype": "text/x-python",
   "name": "python",
   "nbconvert_exporter": "python",
   "pygments_lexer": "ipython3",
   "version": "3.6.3"
  }
 },
 "nbformat": 4,
 "nbformat_minor": 2
}
